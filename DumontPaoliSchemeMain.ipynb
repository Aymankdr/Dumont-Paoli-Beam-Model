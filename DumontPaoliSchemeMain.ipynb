{
 "cells": [
  {
   "cell_type": "code",
   "execution_count": 1,
   "id": "6b13c8d1-06c4-4e45-a708-d1918b08f7de",
   "metadata": {},
   "outputs": [
    {
     "name": "stdout",
     "output_type": "stream",
     "text": [
      "(True, array([1, 0, 1, 0, 1, 0, 1, 0, 1, 0, 1, 0]), array([0, 0, 0, 0, 0, 0, 0, 0, 0, 0, 0, 0]))\n",
      "[8000.]\n",
      "[2.e+11 2.e+11 2.e+11 2.e+11 2.e+11 2.e+11]\n",
      "[-10000.     -0.  20000.     -0. -10000.     -0.  20000.     -0. -10000.\n",
      "     -0.  20000.     -0.]\n"
     ]
    }
   ],
   "source": [
    "import numpy as np\n",
    "import os, shutil\n",
    "import pickle\n",
    "import matplotlib.pyplot as plt\n",
    "from matplotlib.patches import Rectangle\n",
    "import matplotlib.animation as animation\n",
    "import qpsolvers\n",
    "import quadprog\n",
    "import time\n",
    "from scipy.optimize import minimize\n",
    "import copy\n",
    "import sys\n",
    "import platform\n",
    "# Importing other files\n",
    "#sys.path.insert(1,'C:/...file_address')\n",
    "import BeamPropertiesClass as bp\n",
    "import ObstaclePropertiesClass as op\n",
    "import BeamModelClass as bm\n",
    "import TimeIntegrationClass as tim\n",
    "#import parameters_dumont_paoli as pm\n",
    "\n",
    "\n",
    "if __name__ == '__main__':\n",
    "        # ----------- Constants ------------\n",
    "\n",
    "        E = 2*10**11 # Constant Young Modulus\n",
    "        diam_max = 0.01   # Cylindrical beam - Outer circle\n",
    "        diam_min = 0.009  # Cylindrical beam - Inner circle\n",
    "        I = (np.pi/64)*(diam_max**4-diam_min**4) # Inertia Moment\n",
    "        S = np.pi*((diam_max/2)**2-(diam_min/2)**2) # Section Area\n",
    "        rho = 8000   # Density\n",
    "        alpha = 1e-4 # Damping Coefficient\n",
    "\n",
    "        # ----------- Space discretised beam model ------------\n",
    "        L  = 1.501  # Total Length\n",
    "        Nbel = 6   # Number of Elements\n",
    "        mass_matrix_type = 'Singular'\n",
    "\n",
    "        # ----------- Time discretised beam model ------------\n",
    "        dt    = 0.01\n",
    "        tmax  = 3.0\n",
    "        amp   = 0.2\n",
    "        omega = 10.0\n",
    "        beta  = 1/4\n",
    "        e     = 0\n",
    "        solve_method = 'Penalty' # 'Lagrangian'\n",
    "        epsilonp = 1e-4\n",
    "\n",
    "        # ------------ Initial Conditions --------------------\n",
    "        u0 = np.poly1d([0]) # lambda x: 0\n",
    "        v0 = np.poly1d([0]) # lambda x: 0\n",
    "    \n",
    "        # -------------------- Classes -------------------\n",
    "        BP = bp.BeamProperties(E,I,rho,S,alpha) # BeamProperties class element\n",
    "        OP = op.ObstacleProperties(1,-1, 2*Nbel, L) # ObstacleProperties class element\n",
    "        BM = bm.DumontPaoliBeamModel(L, Nbel, mass_matrix_type, BP)\n",
    "        TIM = tim.TimeIntegrationModel(BM, OP, u0, v0, dt, tmax, amp, omega, beta, e, solve_method, epsilonp)\n",
    "\n",
    "        # --------------------Tests------------------\n",
    "        Qn = 1.5*np.ones(2 * Nbel)\n",
    "        x = np.linspace(0,L,Nbel+1)\n",
    "        \n",
    "        P = TIM.compute_FirstTermMatrix()\n",
    "\n",
    "        r = TIM.penalty_force(np.array(Nbel//2*[2,0,-3,0]))\n",
    "\n",
    "        print(OP.contact_test(Qn))\n",
    "        print(BP.Density([1]))\n",
    "        print(BM.E)\n",
    "        print(r)"
   ]
  },
  {
   "cell_type": "code",
   "execution_count": 14,
   "id": "4a13cf99-a1b9-498e-ab3e-88d9e06ad285",
   "metadata": {},
   "outputs": [
    {
     "name": "stdout",
     "output_type": "stream",
     "text": [
      "[3.426412545933981, 30.090691519859377, 55.42691694096315, 27.598533373237352, 18.15236245142295, 39.71403374985825, 38.75853277936297, 26.089342975352327, -18.536742958770446, 3.2103976094119413, -2.7787010763319353, -24.916432584854984, -54.494281885825444, -55.59535449923797, -35.593991690977546, -55.33643482995398, -75.202085669063, -61.220497645963206]\n"
     ]
    },
    {
     "data": {
      "image/png": "[encoded data removed]",
      "text/plain": [
       "<Figure size 1200x500 with 1 Axes>"
      ]
     },
     "metadata": {},
     "output_type": "display_data"
    }
   ],
   "source": [
    "tn, Vn, U, Et, Rt, Ut, Vt, Uddt = 0, np.zeros(Nbel), [np.zeros(2*Nbel)], [], [], [], [], []\n",
    "for i in range(17):\n",
    "    TIM.iterate()\n",
    "print(TIM.Uddt)\n",
    "TIM.plot_animation()"
   ]
  },
  {
   "cell_type": "markdown",
   "id": "5dd761aa-531c-4c8e-a093-1e6e61a9a3f9",
   "metadata": {},
   "source": [
    "# Dumont-Paoli Model explained\n",
    "\n",
    "At first, the $\\textbf{Euler-Bernoulli}$ Beam Model gets discretised using the $\\textbf{Finite Element Method}$:\n"
   ]
  },
  {
   "cell_type": "markdown",
   "id": "311bdf59-27e5-4821-bac4-fbcb7eeb318d",
   "metadata": {},
   "source": [
    "$$\n",
    "\\begin{cases}\n",
    "    &\\text{Find } U : [0, T] \\to \\mathbb{K}^h \\text{ and } V : [0, T] \\to \\mathbb{V}^h \\text{ such that } \\forall t \\in ]0, T]: \\\\\n",
    "    &(W - U(t))^T \\big(M \\ddot{U}(t) + A \\dot{U}(t) + K U(t)\\big) \\geq (W - U(t))^T F(t), &\\forall W \\in \\mathbb{K}^h, \\\\\n",
    "    &C V(t) = B \\dot{U}(t), \\\\\n",
    "    &U(0) = U_0, \\quad V(0) = V_0,\n",
    "\\end{cases}\n",
    "$$"
   ]
  },
  {
   "cell_type": "markdown",
   "id": "9c731f3a-f3bb-47fc-bcb1-5d5c6f8319e5",
   "metadata": {},
   "source": [
    "With the original model being:\n",
    "The strong formulation of the contact problem is expressed as follows:\n",
    "\n",
    "$\\to$ Find $u \\in \\mathbb{K}$ and $r \\in \\mathbb{W}'$ such that:\n",
    "$$\n",
    "    \\begin{cases}\n",
    "    \\rho\\,S\\,\\dfrac{\\partial^2 u}{\\partial t^2}\n",
    "    \\;+\\;\n",
    "    \\dfrac{\\partial^2}{\\partial x^2}\n",
    "      \\left(\\alpha\\,E\\,I\\,\\dfrac{\\partial^3 u}{\\partial x^2\\,\\partial t} \\right)\n",
    "    \\;+\\;\n",
    "    \\dfrac{\\partial^2}{\\partial x^2}\n",
    "      \\left(E\\,I\\,\\dfrac{\\partial^2 u}{\\partial x^2}\\right)\n",
    "    \\;=\\; f \\;-\\; r,\n",
    "    \\\\[6pt]\n",
    "    u(x,0) = u_0(x),\n",
    "    \\quad\n",
    "    \\dot{u}(x,0) = v_0(x),\n",
    "    &\\forall x \\in [0,L],\\\\[6pt]\n",
    "    u(0,t) = 0,\\quad\n",
    "    \\dfrac{\\partial u}{\\partial x}(0,t) = 0,\\quad\n",
    "    \\dfrac{\\partial^k u}{\\partial x^k}(L,t) = 0,\\quad \\forall k\\in\\{2,3\\},\n",
    "    &\\forall t\\in[0,T],\\\\[6pt]\n",
    "    [\\,r\\,]_- \\;\\bot\\; (\\,u - g_1\\,)\\ge 0,\\quad\n",
    "    [\\,r\\,]_+ \\;\\bot\\; (\\,g_2 - u\\,)\\ge 0.\n",
    "    \\end{cases}\n",
    "$$\n",
    "$\\mathbb{K}$ is the set of admissible displacements.\n",
    "$\\mathbb{W}'$ is the dual of the displacements space $\\mathbb{W}$ in which $\\mathbb{K}$ is included!\n",
    "\n",
    "The excitation function can be written as the following:\n",
    "$f(x,t) = \\mu (1-x) \\omega^2 \\sin (\\omega t) $"
   ]
  },
  {
   "cell_type": "markdown",
   "id": "ed4ab4fd-b87b-4a53-a97c-4840bc9fac42",
   "metadata": {},
   "source": [
    "## Construction of the matrices $M, A$ and $K$ and the second-term $F$\n"
   ]
  },
  {
   "cell_type": "markdown",
   "id": "667efedb-1dbf-4c18-9197-068393366ef4",
   "metadata": {},
   "source": [
    "For an element $e=[x_{i-1},x_i]$:\n",
    "\n",
    "$$\n",
    "\\int_{x_{i-1}}^{x_{i}} (1-x) \\overrightarrow{N}_e (x) \\, dx = \\begin{bmatrix}\n",
    "\\frac{h}{2} \\left[ \\frac{N-i+1}{N} + \\frac{h}{5 L} \\right] \\\\\n",
    "h^2 \\left[ \\frac{N-i+1}{12 N} - \\frac{h}{80 L} + \\frac{h}{48 N L} \\right] \\\\\n",
    "\\frac{h}{2} \\left[ \\frac{N-i+1}{N} - \\frac{h}{5 L} \\right] \\\\\n",
    "h^2 \\left[ - \\frac{N-i+1}{12 N} - \\frac{h}{80 L} + \\frac{h}{48 N L} \\right] \n",
    "\\end{bmatrix}\n",
    "$$"
   ]
  },
  {
   "cell_type": "code",
   "execution_count": null,
   "id": "bcca3fab-0651-45bc-99c9-1f5f658df426",
   "metadata": {},
   "outputs": [],
   "source": []
  },
  {
   "cell_type": "code",
   "execution_count": null,
   "id": "93a775e5-86c0-4aa5-8b22-3b0d10da3792",
   "metadata": {},
   "outputs": [],
   "source": []
  },
  {
   "cell_type": "code",
   "execution_count": null,
   "id": "7033662d-0a4b-414f-8dd3-86ee20aed1ef",
   "metadata": {},
   "outputs": [],
   "source": []
  },
  {
   "cell_type": "code",
   "execution_count": null,
   "id": "0e56992e-c7bd-41c0-af7b-8ff31c91f38f",
   "metadata": {},
   "outputs": [],
   "source": []
  }
 ],
 "metadata": {
  "kernelspec": {
   "display_name": "Python [conda env:base] *",
   "language": "python",
   "name": "conda-base-py"
  },
  "language_info": {
   "codemirror_mode": {
    "name": "ipython",
    "version": 3
   },
   "file_extension": ".py",
   "mimetype": "text/x-python",
   "name": "python",
   "nbconvert_exporter": "python",
   "pygments_lexer": "ipython3",
   "version": "3.11.5"
  }
 },
 "nbformat": 4,
 "nbformat_minor": 5
}
